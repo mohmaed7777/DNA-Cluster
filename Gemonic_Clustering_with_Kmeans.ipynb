{
  "nbformat": 4,
  "nbformat_minor": 0,
  "metadata": {
    "colab": {
      "name": "Gemonic Clustering with Kmeans.ipynb",
      "provenance": [],
      "authorship_tag": "ABX9TyPNf3gaOJpyOiASfxdJAXX6",
      "include_colab_link": true
    },
    "kernelspec": {
      "name": "python3",
      "display_name": "Python 3"
    },
    "language_info": {
      "name": "python"
    }
  },
  "cells": [
    {
      "cell_type": "markdown",
      "metadata": {
        "id": "view-in-github",
        "colab_type": "text"
      },
      "source": [
        "<a href=\"https://colab.research.google.com/github/mohmaed7777/DNA-Cluster/blob/main/Gemonic_Clustering_with_Kmeans.ipynb\" target=\"_parent\"><img src=\"https://colab.research.google.com/assets/colab-badge.svg\" alt=\"Open In Colab\"/></a>"
      ]
    },
    {
      "cell_type": "code",
      "metadata": {
        "colab": {
          "base_uri": "https://localhost:8080/"
        },
        "id": "EFV0gBXc3dur",
        "outputId": "c2834775-80e8-4c27-d800-858b59b4a6a6"
      },
      "source": [
        "import pandas as pd\n",
        "import numpy as np\n",
        "import matplotlib.pyplot as plt \n",
        "import seaborn as sns\n",
        "%matplotlib inline\n",
        "sns.set()\n",
        "print('setup done!')"
      ],
      "execution_count": 2,
      "outputs": [
        {
          "output_type": "stream",
          "name": "stdout",
          "text": [
            "setup done!\n"
          ]
        }
      ]
    },
    {
      "cell_type": "code",
      "metadata": {
        "colab": {
          "base_uri": "https://localhost:8080/",
          "height": 359
        },
        "id": "Gx9UOsyW4CrB",
        "outputId": "c512a29b-d457-4f11-8465-506cd0446b0b"
      },
      "source": [
        "df = pd.read_csv('/content/codon_usage.csv')\n",
        "df.head()"
      ],
      "execution_count": 3,
      "outputs": [
        {
          "output_type": "stream",
          "name": "stderr",
          "text": [
            "/usr/local/lib/python3.7/dist-packages/IPython/core/interactiveshell.py:2718: DtypeWarning: Columns (5,6) have mixed types.Specify dtype option on import or set low_memory=False.\n",
            "  interactivity=interactivity, compiler=compiler, result=result)\n"
          ]
        },
        {
          "output_type": "execute_result",
          "data": {
            "text/html": [
              "<div>\n",
              "<style scoped>\n",
              "    .dataframe tbody tr th:only-of-type {\n",
              "        vertical-align: middle;\n",
              "    }\n",
              "\n",
              "    .dataframe tbody tr th {\n",
              "        vertical-align: top;\n",
              "    }\n",
              "\n",
              "    .dataframe thead th {\n",
              "        text-align: right;\n",
              "    }\n",
              "</style>\n",
              "<table border=\"1\" class=\"dataframe\">\n",
              "  <thead>\n",
              "    <tr style=\"text-align: right;\">\n",
              "      <th></th>\n",
              "      <th>Kingdom</th>\n",
              "      <th>DNAtype</th>\n",
              "      <th>SpeciesID</th>\n",
              "      <th>Ncodons</th>\n",
              "      <th>SpeciesName</th>\n",
              "      <th>UUU</th>\n",
              "      <th>UUC</th>\n",
              "      <th>UUA</th>\n",
              "      <th>UUG</th>\n",
              "      <th>CUU</th>\n",
              "      <th>CUC</th>\n",
              "      <th>CUA</th>\n",
              "      <th>CUG</th>\n",
              "      <th>AUU</th>\n",
              "      <th>AUC</th>\n",
              "      <th>AUA</th>\n",
              "      <th>AUG</th>\n",
              "      <th>GUU</th>\n",
              "      <th>GUC</th>\n",
              "      <th>GUA</th>\n",
              "      <th>GUG</th>\n",
              "      <th>GCU</th>\n",
              "      <th>GCC</th>\n",
              "      <th>GCA</th>\n",
              "      <th>GCG</th>\n",
              "      <th>CCU</th>\n",
              "      <th>CCC</th>\n",
              "      <th>CCA</th>\n",
              "      <th>CCG</th>\n",
              "      <th>UGG</th>\n",
              "      <th>GGU</th>\n",
              "      <th>GGC</th>\n",
              "      <th>GGA</th>\n",
              "      <th>GGG</th>\n",
              "      <th>UCU</th>\n",
              "      <th>UCC</th>\n",
              "      <th>UCA</th>\n",
              "      <th>UCG</th>\n",
              "      <th>AGU</th>\n",
              "      <th>AGC</th>\n",
              "      <th>ACU</th>\n",
              "      <th>ACC</th>\n",
              "      <th>ACA</th>\n",
              "      <th>ACG</th>\n",
              "      <th>UAU</th>\n",
              "      <th>UAC</th>\n",
              "      <th>CAA</th>\n",
              "      <th>CAG</th>\n",
              "      <th>AAU</th>\n",
              "      <th>AAC</th>\n",
              "      <th>UGU</th>\n",
              "      <th>UGC</th>\n",
              "      <th>CAU</th>\n",
              "      <th>CAC</th>\n",
              "      <th>AAA</th>\n",
              "      <th>AAG</th>\n",
              "      <th>CGU</th>\n",
              "      <th>CGC</th>\n",
              "      <th>CGA</th>\n",
              "      <th>CGG</th>\n",
              "      <th>AGA</th>\n",
              "      <th>AGG</th>\n",
              "      <th>GAU</th>\n",
              "      <th>GAC</th>\n",
              "      <th>GAA</th>\n",
              "      <th>GAG</th>\n",
              "      <th>UAA</th>\n",
              "      <th>UAG</th>\n",
              "      <th>UGA</th>\n",
              "    </tr>\n",
              "  </thead>\n",
              "  <tbody>\n",
              "    <tr>\n",
              "      <th>0</th>\n",
              "      <td>vrl</td>\n",
              "      <td>0</td>\n",
              "      <td>100217</td>\n",
              "      <td>1995</td>\n",
              "      <td>Epizootic haematopoietic necrosis virus</td>\n",
              "      <td>0.01654</td>\n",
              "      <td>0.01203</td>\n",
              "      <td>0.00050</td>\n",
              "      <td>0.00351</td>\n",
              "      <td>0.01203</td>\n",
              "      <td>0.03208</td>\n",
              "      <td>0.00100</td>\n",
              "      <td>0.04010</td>\n",
              "      <td>0.00551</td>\n",
              "      <td>0.02005</td>\n",
              "      <td>0.00752</td>\n",
              "      <td>0.02506</td>\n",
              "      <td>0.01103</td>\n",
              "      <td>0.04110</td>\n",
              "      <td>0.00902</td>\n",
              "      <td>0.03308</td>\n",
              "      <td>0.01003</td>\n",
              "      <td>0.05013</td>\n",
              "      <td>0.01554</td>\n",
              "      <td>0.01103</td>\n",
              "      <td>0.02356</td>\n",
              "      <td>0.03208</td>\n",
              "      <td>0.01203</td>\n",
              "      <td>0.00501</td>\n",
              "      <td>0.01003</td>\n",
              "      <td>0.01203</td>\n",
              "      <td>0.03158</td>\n",
              "      <td>0.01905</td>\n",
              "      <td>0.02456</td>\n",
              "      <td>0.01353</td>\n",
              "      <td>0.02155</td>\n",
              "      <td>0.00251</td>\n",
              "      <td>0.00652</td>\n",
              "      <td>0.00150</td>\n",
              "      <td>0.01554</td>\n",
              "      <td>0.00501</td>\n",
              "      <td>0.02105</td>\n",
              "      <td>0.00902</td>\n",
              "      <td>0.01053</td>\n",
              "      <td>0.00501</td>\n",
              "      <td>0.02256</td>\n",
              "      <td>0.00301</td>\n",
              "      <td>0.03108</td>\n",
              "      <td>0.00401</td>\n",
              "      <td>0.02607</td>\n",
              "      <td>0.00251</td>\n",
              "      <td>0.01153</td>\n",
              "      <td>0.00501</td>\n",
              "      <td>0.02356</td>\n",
              "      <td>0.01053</td>\n",
              "      <td>0.03860</td>\n",
              "      <td>0.00401</td>\n",
              "      <td>0.00702</td>\n",
              "      <td>0.00401</td>\n",
              "      <td>0.00451</td>\n",
              "      <td>0.01303</td>\n",
              "      <td>0.03559</td>\n",
              "      <td>0.01003</td>\n",
              "      <td>0.04612</td>\n",
              "      <td>0.01203</td>\n",
              "      <td>0.04361</td>\n",
              "      <td>0.00251</td>\n",
              "      <td>0.00050</td>\n",
              "      <td>0.00000</td>\n",
              "    </tr>\n",
              "    <tr>\n",
              "      <th>1</th>\n",
              "      <td>vrl</td>\n",
              "      <td>0</td>\n",
              "      <td>100220</td>\n",
              "      <td>1474</td>\n",
              "      <td>Bohle iridovirus</td>\n",
              "      <td>0.02714</td>\n",
              "      <td>0.01357</td>\n",
              "      <td>0.00068</td>\n",
              "      <td>0.00678</td>\n",
              "      <td>0.00407</td>\n",
              "      <td>0.02849</td>\n",
              "      <td>0.00204</td>\n",
              "      <td>0.04410</td>\n",
              "      <td>0.01153</td>\n",
              "      <td>0.02510</td>\n",
              "      <td>0.00882</td>\n",
              "      <td>0.03324</td>\n",
              "      <td>0.00814</td>\n",
              "      <td>0.04071</td>\n",
              "      <td>0.00814</td>\n",
              "      <td>0.03256</td>\n",
              "      <td>0.01085</td>\n",
              "      <td>0.04885</td>\n",
              "      <td>0.01221</td>\n",
              "      <td>0.01357</td>\n",
              "      <td>0.00678</td>\n",
              "      <td>0.02714</td>\n",
              "      <td>0.01221</td>\n",
              "      <td>0.00407</td>\n",
              "      <td>0.01425</td>\n",
              "      <td>0.01221</td>\n",
              "      <td>0.01967</td>\n",
              "      <td>0.02239</td>\n",
              "      <td>0.01289</td>\n",
              "      <td>0.02103</td>\n",
              "      <td>0.01493</td>\n",
              "      <td>0.00407</td>\n",
              "      <td>0.00475</td>\n",
              "      <td>0.00068</td>\n",
              "      <td>0.02035</td>\n",
              "      <td>0.00950</td>\n",
              "      <td>0.02782</td>\n",
              "      <td>0.01425</td>\n",
              "      <td>0.00611</td>\n",
              "      <td>0.00475</td>\n",
              "      <td>0.02917</td>\n",
              "      <td>0.00407</td>\n",
              "      <td>0.02374</td>\n",
              "      <td>0.00882</td>\n",
              "      <td>0.02917</td>\n",
              "      <td>0.00271</td>\n",
              "      <td>0.01628</td>\n",
              "      <td>0.00204</td>\n",
              "      <td>0.01967</td>\n",
              "      <td>0.00543</td>\n",
              "      <td>0.03392</td>\n",
              "      <td>0.00136</td>\n",
              "      <td>0.00678</td>\n",
              "      <td>0.00136</td>\n",
              "      <td>0.00136</td>\n",
              "      <td>0.01696</td>\n",
              "      <td>0.03596</td>\n",
              "      <td>0.01221</td>\n",
              "      <td>0.04545</td>\n",
              "      <td>0.01560</td>\n",
              "      <td>0.04410</td>\n",
              "      <td>0.00271</td>\n",
              "      <td>0.00068</td>\n",
              "      <td>0.00000</td>\n",
              "    </tr>\n",
              "    <tr>\n",
              "      <th>2</th>\n",
              "      <td>vrl</td>\n",
              "      <td>0</td>\n",
              "      <td>100755</td>\n",
              "      <td>4862</td>\n",
              "      <td>Sweet potato leaf curl virus</td>\n",
              "      <td>0.01974</td>\n",
              "      <td>0.0218</td>\n",
              "      <td>0.01357</td>\n",
              "      <td>0.01543</td>\n",
              "      <td>0.00782</td>\n",
              "      <td>0.01111</td>\n",
              "      <td>0.01028</td>\n",
              "      <td>0.01193</td>\n",
              "      <td>0.02283</td>\n",
              "      <td>0.01604</td>\n",
              "      <td>0.01316</td>\n",
              "      <td>0.02180</td>\n",
              "      <td>0.01625</td>\n",
              "      <td>0.01872</td>\n",
              "      <td>0.01213</td>\n",
              "      <td>0.01070</td>\n",
              "      <td>0.02406</td>\n",
              "      <td>0.01234</td>\n",
              "      <td>0.01440</td>\n",
              "      <td>0.00514</td>\n",
              "      <td>0.01604</td>\n",
              "      <td>0.01460</td>\n",
              "      <td>0.02098</td>\n",
              "      <td>0.01070</td>\n",
              "      <td>0.01728</td>\n",
              "      <td>0.01851</td>\n",
              "      <td>0.00864</td>\n",
              "      <td>0.01172</td>\n",
              "      <td>0.01892</td>\n",
              "      <td>0.01933</td>\n",
              "      <td>0.01419</td>\n",
              "      <td>0.01296</td>\n",
              "      <td>0.00967</td>\n",
              "      <td>0.01337</td>\n",
              "      <td>0.01337</td>\n",
              "      <td>0.01851</td>\n",
              "      <td>0.01131</td>\n",
              "      <td>0.01419</td>\n",
              "      <td>0.01090</td>\n",
              "      <td>0.02612</td>\n",
              "      <td>0.01275</td>\n",
              "      <td>0.01522</td>\n",
              "      <td>0.02365</td>\n",
              "      <td>0.02962</td>\n",
              "      <td>0.01789</td>\n",
              "      <td>0.01625</td>\n",
              "      <td>0.01234</td>\n",
              "      <td>0.01604</td>\n",
              "      <td>0.01687</td>\n",
              "      <td>0.02077</td>\n",
              "      <td>0.03949</td>\n",
              "      <td>0.00864</td>\n",
              "      <td>0.00596</td>\n",
              "      <td>0.00926</td>\n",
              "      <td>0.00596</td>\n",
              "      <td>0.01974</td>\n",
              "      <td>0.02489</td>\n",
              "      <td>0.03126</td>\n",
              "      <td>0.02036</td>\n",
              "      <td>0.02242</td>\n",
              "      <td>0.02468</td>\n",
              "      <td>0.00391</td>\n",
              "      <td>0.00000</td>\n",
              "      <td>0.00144</td>\n",
              "    </tr>\n",
              "    <tr>\n",
              "      <th>3</th>\n",
              "      <td>vrl</td>\n",
              "      <td>0</td>\n",
              "      <td>100880</td>\n",
              "      <td>1915</td>\n",
              "      <td>Northern cereal mosaic virus</td>\n",
              "      <td>0.01775</td>\n",
              "      <td>0.02245</td>\n",
              "      <td>0.01619</td>\n",
              "      <td>0.00992</td>\n",
              "      <td>0.01567</td>\n",
              "      <td>0.01358</td>\n",
              "      <td>0.00940</td>\n",
              "      <td>0.01723</td>\n",
              "      <td>0.02402</td>\n",
              "      <td>0.02245</td>\n",
              "      <td>0.02507</td>\n",
              "      <td>0.02924</td>\n",
              "      <td>0.02089</td>\n",
              "      <td>0.02141</td>\n",
              "      <td>0.01723</td>\n",
              "      <td>0.01932</td>\n",
              "      <td>0.02141</td>\n",
              "      <td>0.00679</td>\n",
              "      <td>0.02245</td>\n",
              "      <td>0.00522</td>\n",
              "      <td>0.01358</td>\n",
              "      <td>0.00418</td>\n",
              "      <td>0.01410</td>\n",
              "      <td>0.00574</td>\n",
              "      <td>0.01201</td>\n",
              "      <td>0.00992</td>\n",
              "      <td>0.00366</td>\n",
              "      <td>0.02402</td>\n",
              "      <td>0.02663</td>\n",
              "      <td>0.02872</td>\n",
              "      <td>0.00992</td>\n",
              "      <td>0.02350</td>\n",
              "      <td>0.00522</td>\n",
              "      <td>0.01619</td>\n",
              "      <td>0.00836</td>\n",
              "      <td>0.02037</td>\n",
              "      <td>0.01358</td>\n",
              "      <td>0.02089</td>\n",
              "      <td>0.00731</td>\n",
              "      <td>0.02141</td>\n",
              "      <td>0.00888</td>\n",
              "      <td>0.01567</td>\n",
              "      <td>0.01253</td>\n",
              "      <td>0.02298</td>\n",
              "      <td>0.01358</td>\n",
              "      <td>0.00992</td>\n",
              "      <td>0.00888</td>\n",
              "      <td>0.00783</td>\n",
              "      <td>0.00679</td>\n",
              "      <td>0.03133</td>\n",
              "      <td>0.04282</td>\n",
              "      <td>0.00627</td>\n",
              "      <td>0.00261</td>\n",
              "      <td>0.00261</td>\n",
              "      <td>0.00366</td>\n",
              "      <td>0.01410</td>\n",
              "      <td>0.01671</td>\n",
              "      <td>0.03760</td>\n",
              "      <td>0.01932</td>\n",
              "      <td>0.03029</td>\n",
              "      <td>0.03446</td>\n",
              "      <td>0.00261</td>\n",
              "      <td>0.00157</td>\n",
              "      <td>0.00000</td>\n",
              "    </tr>\n",
              "    <tr>\n",
              "      <th>4</th>\n",
              "      <td>vrl</td>\n",
              "      <td>0</td>\n",
              "      <td>100887</td>\n",
              "      <td>22831</td>\n",
              "      <td>Soil-borne cereal mosaic virus</td>\n",
              "      <td>0.02816</td>\n",
              "      <td>0.01371</td>\n",
              "      <td>0.00767</td>\n",
              "      <td>0.03679</td>\n",
              "      <td>0.01380</td>\n",
              "      <td>0.00548</td>\n",
              "      <td>0.00473</td>\n",
              "      <td>0.02076</td>\n",
              "      <td>0.02716</td>\n",
              "      <td>0.00867</td>\n",
              "      <td>0.01310</td>\n",
              "      <td>0.02773</td>\n",
              "      <td>0.02803</td>\n",
              "      <td>0.00508</td>\n",
              "      <td>0.00920</td>\n",
              "      <td>0.02965</td>\n",
              "      <td>0.02878</td>\n",
              "      <td>0.00574</td>\n",
              "      <td>0.01572</td>\n",
              "      <td>0.01577</td>\n",
              "      <td>0.01007</td>\n",
              "      <td>0.00508</td>\n",
              "      <td>0.00604</td>\n",
              "      <td>0.00679</td>\n",
              "      <td>0.01205</td>\n",
              "      <td>0.03127</td>\n",
              "      <td>0.00775</td>\n",
              "      <td>0.00959</td>\n",
              "      <td>0.00797</td>\n",
              "      <td>0.02006</td>\n",
              "      <td>0.00359</td>\n",
              "      <td>0.00933</td>\n",
              "      <td>0.01191</td>\n",
              "      <td>0.01616</td>\n",
              "      <td>0.00788</td>\n",
              "      <td>0.02593</td>\n",
              "      <td>0.00854</td>\n",
              "      <td>0.01200</td>\n",
              "      <td>0.02098</td>\n",
              "      <td>0.02089</td>\n",
              "      <td>0.01367</td>\n",
              "      <td>0.01502</td>\n",
              "      <td>0.01809</td>\n",
              "      <td>0.02738</td>\n",
              "      <td>0.01796</td>\n",
              "      <td>0.01082</td>\n",
              "      <td>0.00705</td>\n",
              "      <td>0.01174</td>\n",
              "      <td>0.00858</td>\n",
              "      <td>0.03408</td>\n",
              "      <td>0.03964</td>\n",
              "      <td>0.00950</td>\n",
              "      <td>0.00429</td>\n",
              "      <td>0.00578</td>\n",
              "      <td>0.00604</td>\n",
              "      <td>0.01494</td>\n",
              "      <td>0.01734</td>\n",
              "      <td>0.04148</td>\n",
              "      <td>0.02483</td>\n",
              "      <td>0.03359</td>\n",
              "      <td>0.03679</td>\n",
              "      <td>0.00000</td>\n",
              "      <td>0.00044</td>\n",
              "      <td>0.00131</td>\n",
              "    </tr>\n",
              "  </tbody>\n",
              "</table>\n",
              "</div>"
            ],
            "text/plain": [
              "  Kingdom  DNAtype  SpeciesID  Ncodons  ...      GAG      UAA      UAG      UGA\n",
              "0     vrl        0     100217     1995  ...  0.04361  0.00251  0.00050  0.00000\n",
              "1     vrl        0     100220     1474  ...  0.04410  0.00271  0.00068  0.00000\n",
              "2     vrl        0     100755     4862  ...  0.02468  0.00391  0.00000  0.00144\n",
              "3     vrl        0     100880     1915  ...  0.03446  0.00261  0.00157  0.00000\n",
              "4     vrl        0     100887    22831  ...  0.03679  0.00000  0.00044  0.00131\n",
              "\n",
              "[5 rows x 69 columns]"
            ]
          },
          "metadata": {},
          "execution_count": 3
        }
      ]
    },
    {
      "cell_type": "code",
      "metadata": {
        "colab": {
          "base_uri": "https://localhost:8080/"
        },
        "id": "7T3bhV1Q5FoQ",
        "outputId": "babb26e9-ef36-47ab-8dd2-004dbe87f4e8"
      },
      "source": [
        "df.shape"
      ],
      "execution_count": 7,
      "outputs": [
        {
          "output_type": "execute_result",
          "data": {
            "text/plain": [
              "(9697, 69)"
            ]
          },
          "metadata": {},
          "execution_count": 7
        }
      ]
    },
    {
      "cell_type": "code",
      "metadata": {
        "colab": {
          "base_uri": "https://localhost:8080/"
        },
        "id": "ErzKMmcx4npS",
        "outputId": "57127b1d-9682-478b-bf78-5d6a12fe1c26"
      },
      "source": [
        "df.nunique()"
      ],
      "execution_count": 4,
      "outputs": [
        {
          "output_type": "execute_result",
          "data": {
            "text/plain": [
              "Kingdom           7\n",
              "DNAtype          11\n",
              "SpeciesID      9300\n",
              "Ncodons        6142\n",
              "SpeciesName    9685\n",
              "               ... \n",
              "GAA            4479\n",
              "GAG            4140\n",
              "UAA             579\n",
              "UAG             360\n",
              "UGA             831\n",
              "Length: 69, dtype: int64"
            ]
          },
          "metadata": {},
          "execution_count": 4
        }
      ]
    },
    {
      "cell_type": "code",
      "metadata": {
        "colab": {
          "base_uri": "https://localhost:8080/"
        },
        "id": "jgshio3y4yu2",
        "outputId": "4dbcc2bc-1391-40ef-cec9-90e545162cdf"
      },
      "source": [
        "df.isnull().sum()"
      ],
      "execution_count": 5,
      "outputs": [
        {
          "output_type": "execute_result",
          "data": {
            "text/plain": [
              "Kingdom        0\n",
              "DNAtype        0\n",
              "SpeciesID      0\n",
              "Ncodons        0\n",
              "SpeciesName    0\n",
              "              ..\n",
              "GAA            1\n",
              "GAG            1\n",
              "UAA            1\n",
              "UAG            1\n",
              "UGA            1\n",
              "Length: 69, dtype: int64"
            ]
          },
          "metadata": {},
          "execution_count": 5
        }
      ]
    },
    {
      "cell_type": "code",
      "metadata": {
        "colab": {
          "base_uri": "https://localhost:8080/"
        },
        "id": "d9ApwrjX43gE",
        "outputId": "a171bcca-ec25-42d1-cd1f-55f9841a6200"
      },
      "source": [
        "df.dtypes"
      ],
      "execution_count": 6,
      "outputs": [
        {
          "output_type": "execute_result",
          "data": {
            "text/plain": [
              "Kingdom         object\n",
              "DNAtype          int64\n",
              "SpeciesID        int64\n",
              "Ncodons          int64\n",
              "SpeciesName     object\n",
              "                ...   \n",
              "GAA            float64\n",
              "GAG            float64\n",
              "UAA            float64\n",
              "UAG            float64\n",
              "UGA            float64\n",
              "Length: 69, dtype: object"
            ]
          },
          "metadata": {},
          "execution_count": 6
        }
      ]
    },
    {
      "cell_type": "code",
      "metadata": {
        "id": "feIzpRMk5B5H"
      },
      "source": [
        "df.dropna(axis=1, inplace=True)"
      ],
      "execution_count": 8,
      "outputs": []
    },
    {
      "cell_type": "code",
      "metadata": {
        "colab": {
          "base_uri": "https://localhost:8080/",
          "height": 324
        },
        "id": "vxGb-N8m5Ofj",
        "outputId": "b0df7f9d-9f05-491a-a934-9bc158aab282"
      },
      "source": [
        "df.head()"
      ],
      "execution_count": 9,
      "outputs": [
        {
          "output_type": "execute_result",
          "data": {
            "text/html": [
              "<div>\n",
              "<style scoped>\n",
              "    .dataframe tbody tr th:only-of-type {\n",
              "        vertical-align: middle;\n",
              "    }\n",
              "\n",
              "    .dataframe tbody tr th {\n",
              "        vertical-align: top;\n",
              "    }\n",
              "\n",
              "    .dataframe thead th {\n",
              "        text-align: right;\n",
              "    }\n",
              "</style>\n",
              "<table border=\"1\" class=\"dataframe\">\n",
              "  <thead>\n",
              "    <tr style=\"text-align: right;\">\n",
              "      <th></th>\n",
              "      <th>Kingdom</th>\n",
              "      <th>DNAtype</th>\n",
              "      <th>SpeciesID</th>\n",
              "      <th>Ncodons</th>\n",
              "      <th>SpeciesName</th>\n",
              "      <th>UUU</th>\n",
              "      <th>UUC</th>\n",
              "      <th>UUA</th>\n",
              "      <th>UUG</th>\n",
              "      <th>CUU</th>\n",
              "      <th>CUC</th>\n",
              "      <th>CUA</th>\n",
              "      <th>CUG</th>\n",
              "      <th>AUU</th>\n",
              "      <th>AUC</th>\n",
              "      <th>AUA</th>\n",
              "    </tr>\n",
              "  </thead>\n",
              "  <tbody>\n",
              "    <tr>\n",
              "      <th>0</th>\n",
              "      <td>vrl</td>\n",
              "      <td>0</td>\n",
              "      <td>100217</td>\n",
              "      <td>1995</td>\n",
              "      <td>Epizootic haematopoietic necrosis virus</td>\n",
              "      <td>0.01654</td>\n",
              "      <td>0.01203</td>\n",
              "      <td>0.00050</td>\n",
              "      <td>0.00351</td>\n",
              "      <td>0.01203</td>\n",
              "      <td>0.03208</td>\n",
              "      <td>0.00100</td>\n",
              "      <td>0.04010</td>\n",
              "      <td>0.00551</td>\n",
              "      <td>0.02005</td>\n",
              "      <td>0.00752</td>\n",
              "    </tr>\n",
              "    <tr>\n",
              "      <th>1</th>\n",
              "      <td>vrl</td>\n",
              "      <td>0</td>\n",
              "      <td>100220</td>\n",
              "      <td>1474</td>\n",
              "      <td>Bohle iridovirus</td>\n",
              "      <td>0.02714</td>\n",
              "      <td>0.01357</td>\n",
              "      <td>0.00068</td>\n",
              "      <td>0.00678</td>\n",
              "      <td>0.00407</td>\n",
              "      <td>0.02849</td>\n",
              "      <td>0.00204</td>\n",
              "      <td>0.04410</td>\n",
              "      <td>0.01153</td>\n",
              "      <td>0.02510</td>\n",
              "      <td>0.00882</td>\n",
              "    </tr>\n",
              "    <tr>\n",
              "      <th>2</th>\n",
              "      <td>vrl</td>\n",
              "      <td>0</td>\n",
              "      <td>100755</td>\n",
              "      <td>4862</td>\n",
              "      <td>Sweet potato leaf curl virus</td>\n",
              "      <td>0.01974</td>\n",
              "      <td>0.0218</td>\n",
              "      <td>0.01357</td>\n",
              "      <td>0.01543</td>\n",
              "      <td>0.00782</td>\n",
              "      <td>0.01111</td>\n",
              "      <td>0.01028</td>\n",
              "      <td>0.01193</td>\n",
              "      <td>0.02283</td>\n",
              "      <td>0.01604</td>\n",
              "      <td>0.01316</td>\n",
              "    </tr>\n",
              "    <tr>\n",
              "      <th>3</th>\n",
              "      <td>vrl</td>\n",
              "      <td>0</td>\n",
              "      <td>100880</td>\n",
              "      <td>1915</td>\n",
              "      <td>Northern cereal mosaic virus</td>\n",
              "      <td>0.01775</td>\n",
              "      <td>0.02245</td>\n",
              "      <td>0.01619</td>\n",
              "      <td>0.00992</td>\n",
              "      <td>0.01567</td>\n",
              "      <td>0.01358</td>\n",
              "      <td>0.00940</td>\n",
              "      <td>0.01723</td>\n",
              "      <td>0.02402</td>\n",
              "      <td>0.02245</td>\n",
              "      <td>0.02507</td>\n",
              "    </tr>\n",
              "    <tr>\n",
              "      <th>4</th>\n",
              "      <td>vrl</td>\n",
              "      <td>0</td>\n",
              "      <td>100887</td>\n",
              "      <td>22831</td>\n",
              "      <td>Soil-borne cereal mosaic virus</td>\n",
              "      <td>0.02816</td>\n",
              "      <td>0.01371</td>\n",
              "      <td>0.00767</td>\n",
              "      <td>0.03679</td>\n",
              "      <td>0.01380</td>\n",
              "      <td>0.00548</td>\n",
              "      <td>0.00473</td>\n",
              "      <td>0.02076</td>\n",
              "      <td>0.02716</td>\n",
              "      <td>0.00867</td>\n",
              "      <td>0.01310</td>\n",
              "    </tr>\n",
              "  </tbody>\n",
              "</table>\n",
              "</div>"
            ],
            "text/plain": [
              "  Kingdom  DNAtype  SpeciesID  Ncodons  ...      CUG      AUU      AUC      AUA\n",
              "0     vrl        0     100217     1995  ...  0.04010  0.00551  0.02005  0.00752\n",
              "1     vrl        0     100220     1474  ...  0.04410  0.01153  0.02510  0.00882\n",
              "2     vrl        0     100755     4862  ...  0.01193  0.02283  0.01604  0.01316\n",
              "3     vrl        0     100880     1915  ...  0.01723  0.02402  0.02245  0.02507\n",
              "4     vrl        0     100887    22831  ...  0.02076  0.02716  0.00867  0.01310\n",
              "\n",
              "[5 rows x 16 columns]"
            ]
          },
          "metadata": {},
          "execution_count": 9
        }
      ]
    },
    {
      "cell_type": "code",
      "metadata": {
        "colab": {
          "base_uri": "https://localhost:8080/"
        },
        "id": "WnbTbWkH5QAG",
        "outputId": "0ac4a844-c50c-4eec-edf2-91ae4b7649b2"
      },
      "source": [
        "df.DNAtype.describe()"
      ],
      "execution_count": 10,
      "outputs": [
        {
          "output_type": "execute_result",
          "data": {
            "text/plain": [
              "count    9697.000000\n",
              "mean        0.244302\n",
              "std         0.704348\n",
              "min         0.000000\n",
              "25%         0.000000\n",
              "50%         0.000000\n",
              "75%         0.000000\n",
              "max        12.000000\n",
              "Name: DNAtype, dtype: float64"
            ]
          },
          "metadata": {},
          "execution_count": 10
        }
      ]
    },
    {
      "cell_type": "code",
      "metadata": {
        "id": "PORN6U8s5ej5"
      },
      "source": [
        "df.drop(['SpeciesID', 'SpeciesName'], axis=1, inplace=True)"
      ],
      "execution_count": 11,
      "outputs": []
    },
    {
      "cell_type": "code",
      "metadata": {
        "colab": {
          "base_uri": "https://localhost:8080/",
          "height": 203
        },
        "id": "s1epSH3T5y3L",
        "outputId": "856cfc4f-96a7-483c-c347-6b9b4d5776c3"
      },
      "source": [
        "df.head()"
      ],
      "execution_count": 12,
      "outputs": [
        {
          "output_type": "execute_result",
          "data": {
            "text/html": [
              "<div>\n",
              "<style scoped>\n",
              "    .dataframe tbody tr th:only-of-type {\n",
              "        vertical-align: middle;\n",
              "    }\n",
              "\n",
              "    .dataframe tbody tr th {\n",
              "        vertical-align: top;\n",
              "    }\n",
              "\n",
              "    .dataframe thead th {\n",
              "        text-align: right;\n",
              "    }\n",
              "</style>\n",
              "<table border=\"1\" class=\"dataframe\">\n",
              "  <thead>\n",
              "    <tr style=\"text-align: right;\">\n",
              "      <th></th>\n",
              "      <th>Kingdom</th>\n",
              "      <th>DNAtype</th>\n",
              "      <th>Ncodons</th>\n",
              "      <th>UUU</th>\n",
              "      <th>UUC</th>\n",
              "      <th>UUA</th>\n",
              "      <th>UUG</th>\n",
              "      <th>CUU</th>\n",
              "      <th>CUC</th>\n",
              "      <th>CUA</th>\n",
              "      <th>CUG</th>\n",
              "      <th>AUU</th>\n",
              "      <th>AUC</th>\n",
              "      <th>AUA</th>\n",
              "    </tr>\n",
              "  </thead>\n",
              "  <tbody>\n",
              "    <tr>\n",
              "      <th>0</th>\n",
              "      <td>vrl</td>\n",
              "      <td>0</td>\n",
              "      <td>1995</td>\n",
              "      <td>0.01654</td>\n",
              "      <td>0.01203</td>\n",
              "      <td>0.00050</td>\n",
              "      <td>0.00351</td>\n",
              "      <td>0.01203</td>\n",
              "      <td>0.03208</td>\n",
              "      <td>0.00100</td>\n",
              "      <td>0.04010</td>\n",
              "      <td>0.00551</td>\n",
              "      <td>0.02005</td>\n",
              "      <td>0.00752</td>\n",
              "    </tr>\n",
              "    <tr>\n",
              "      <th>1</th>\n",
              "      <td>vrl</td>\n",
              "      <td>0</td>\n",
              "      <td>1474</td>\n",
              "      <td>0.02714</td>\n",
              "      <td>0.01357</td>\n",
              "      <td>0.00068</td>\n",
              "      <td>0.00678</td>\n",
              "      <td>0.00407</td>\n",
              "      <td>0.02849</td>\n",
              "      <td>0.00204</td>\n",
              "      <td>0.04410</td>\n",
              "      <td>0.01153</td>\n",
              "      <td>0.02510</td>\n",
              "      <td>0.00882</td>\n",
              "    </tr>\n",
              "    <tr>\n",
              "      <th>2</th>\n",
              "      <td>vrl</td>\n",
              "      <td>0</td>\n",
              "      <td>4862</td>\n",
              "      <td>0.01974</td>\n",
              "      <td>0.0218</td>\n",
              "      <td>0.01357</td>\n",
              "      <td>0.01543</td>\n",
              "      <td>0.00782</td>\n",
              "      <td>0.01111</td>\n",
              "      <td>0.01028</td>\n",
              "      <td>0.01193</td>\n",
              "      <td>0.02283</td>\n",
              "      <td>0.01604</td>\n",
              "      <td>0.01316</td>\n",
              "    </tr>\n",
              "    <tr>\n",
              "      <th>3</th>\n",
              "      <td>vrl</td>\n",
              "      <td>0</td>\n",
              "      <td>1915</td>\n",
              "      <td>0.01775</td>\n",
              "      <td>0.02245</td>\n",
              "      <td>0.01619</td>\n",
              "      <td>0.00992</td>\n",
              "      <td>0.01567</td>\n",
              "      <td>0.01358</td>\n",
              "      <td>0.00940</td>\n",
              "      <td>0.01723</td>\n",
              "      <td>0.02402</td>\n",
              "      <td>0.02245</td>\n",
              "      <td>0.02507</td>\n",
              "    </tr>\n",
              "    <tr>\n",
              "      <th>4</th>\n",
              "      <td>vrl</td>\n",
              "      <td>0</td>\n",
              "      <td>22831</td>\n",
              "      <td>0.02816</td>\n",
              "      <td>0.01371</td>\n",
              "      <td>0.00767</td>\n",
              "      <td>0.03679</td>\n",
              "      <td>0.01380</td>\n",
              "      <td>0.00548</td>\n",
              "      <td>0.00473</td>\n",
              "      <td>0.02076</td>\n",
              "      <td>0.02716</td>\n",
              "      <td>0.00867</td>\n",
              "      <td>0.01310</td>\n",
              "    </tr>\n",
              "  </tbody>\n",
              "</table>\n",
              "</div>"
            ],
            "text/plain": [
              "  Kingdom  DNAtype  Ncodons      UUU  ...      CUG      AUU      AUC      AUA\n",
              "0     vrl        0     1995  0.01654  ...  0.04010  0.00551  0.02005  0.00752\n",
              "1     vrl        0     1474  0.02714  ...  0.04410  0.01153  0.02510  0.00882\n",
              "2     vrl        0     4862  0.01974  ...  0.01193  0.02283  0.01604  0.01316\n",
              "3     vrl        0     1915  0.01775  ...  0.01723  0.02402  0.02245  0.02507\n",
              "4     vrl        0    22831  0.02816  ...  0.02076  0.02716  0.00867  0.01310\n",
              "\n",
              "[5 rows x 14 columns]"
            ]
          },
          "metadata": {},
          "execution_count": 12
        }
      ]
    },
    {
      "cell_type": "code",
      "metadata": {
        "colab": {
          "base_uri": "https://localhost:8080/",
          "height": 172
        },
        "id": "yDo-oSXb50uL",
        "outputId": "f5f4def2-01de-490b-83bd-321af06fcce5"
      },
      "source": [
        " df.describe(include='object')"
      ],
      "execution_count": 13,
      "outputs": [
        {
          "output_type": "execute_result",
          "data": {
            "text/html": [
              "<div>\n",
              "<style scoped>\n",
              "    .dataframe tbody tr th:only-of-type {\n",
              "        vertical-align: middle;\n",
              "    }\n",
              "\n",
              "    .dataframe tbody tr th {\n",
              "        vertical-align: top;\n",
              "    }\n",
              "\n",
              "    .dataframe thead th {\n",
              "        text-align: right;\n",
              "    }\n",
              "</style>\n",
              "<table border=\"1\" class=\"dataframe\">\n",
              "  <thead>\n",
              "    <tr style=\"text-align: right;\">\n",
              "      <th></th>\n",
              "      <th>Kingdom</th>\n",
              "      <th>UUU</th>\n",
              "      <th>UUC</th>\n",
              "    </tr>\n",
              "  </thead>\n",
              "  <tbody>\n",
              "    <tr>\n",
              "      <th>count</th>\n",
              "      <td>9697</td>\n",
              "      <td>9697</td>\n",
              "      <td>9697</td>\n",
              "    </tr>\n",
              "    <tr>\n",
              "      <th>unique</th>\n",
              "      <td>7</td>\n",
              "      <td>5174</td>\n",
              "      <td>4191</td>\n",
              "    </tr>\n",
              "    <tr>\n",
              "      <th>top</th>\n",
              "      <td>bct</td>\n",
              "      <td>0</td>\n",
              "      <td>0.02564</td>\n",
              "    </tr>\n",
              "    <tr>\n",
              "      <th>freq</th>\n",
              "      <td>2920</td>\n",
              "      <td>69</td>\n",
              "      <td>42</td>\n",
              "    </tr>\n",
              "  </tbody>\n",
              "</table>\n",
              "</div>"
            ],
            "text/plain": [
              "       Kingdom   UUU      UUC\n",
              "count     9697  9697     9697\n",
              "unique       7  5174     4191\n",
              "top        bct     0  0.02564\n",
              "freq      2920    69       42"
            ]
          },
          "metadata": {},
          "execution_count": 13
        }
      ]
    },
    {
      "cell_type": "code",
      "metadata": {
        "id": "i00_wM1x9_NM"
      },
      "source": [
        "df.drop(['UUU', 'UUC'], axis=1, inplace=True)"
      ],
      "execution_count": 14,
      "outputs": []
    },
    {
      "cell_type": "code",
      "metadata": {
        "colab": {
          "base_uri": "https://localhost:8080/",
          "height": 203
        },
        "id": "ITVgLBk2-V19",
        "outputId": "51fcecd2-3df1-4dbe-ec98-64a4495a771f"
      },
      "source": [
        "df.head()"
      ],
      "execution_count": 15,
      "outputs": [
        {
          "output_type": "execute_result",
          "data": {
            "text/html": [
              "<div>\n",
              "<style scoped>\n",
              "    .dataframe tbody tr th:only-of-type {\n",
              "        vertical-align: middle;\n",
              "    }\n",
              "\n",
              "    .dataframe tbody tr th {\n",
              "        vertical-align: top;\n",
              "    }\n",
              "\n",
              "    .dataframe thead th {\n",
              "        text-align: right;\n",
              "    }\n",
              "</style>\n",
              "<table border=\"1\" class=\"dataframe\">\n",
              "  <thead>\n",
              "    <tr style=\"text-align: right;\">\n",
              "      <th></th>\n",
              "      <th>Kingdom</th>\n",
              "      <th>DNAtype</th>\n",
              "      <th>Ncodons</th>\n",
              "      <th>UUA</th>\n",
              "      <th>UUG</th>\n",
              "      <th>CUU</th>\n",
              "      <th>CUC</th>\n",
              "      <th>CUA</th>\n",
              "      <th>CUG</th>\n",
              "      <th>AUU</th>\n",
              "      <th>AUC</th>\n",
              "      <th>AUA</th>\n",
              "    </tr>\n",
              "  </thead>\n",
              "  <tbody>\n",
              "    <tr>\n",
              "      <th>0</th>\n",
              "      <td>vrl</td>\n",
              "      <td>0</td>\n",
              "      <td>1995</td>\n",
              "      <td>0.00050</td>\n",
              "      <td>0.00351</td>\n",
              "      <td>0.01203</td>\n",
              "      <td>0.03208</td>\n",
              "      <td>0.00100</td>\n",
              "      <td>0.04010</td>\n",
              "      <td>0.00551</td>\n",
              "      <td>0.02005</td>\n",
              "      <td>0.00752</td>\n",
              "    </tr>\n",
              "    <tr>\n",
              "      <th>1</th>\n",
              "      <td>vrl</td>\n",
              "      <td>0</td>\n",
              "      <td>1474</td>\n",
              "      <td>0.00068</td>\n",
              "      <td>0.00678</td>\n",
              "      <td>0.00407</td>\n",
              "      <td>0.02849</td>\n",
              "      <td>0.00204</td>\n",
              "      <td>0.04410</td>\n",
              "      <td>0.01153</td>\n",
              "      <td>0.02510</td>\n",
              "      <td>0.00882</td>\n",
              "    </tr>\n",
              "    <tr>\n",
              "      <th>2</th>\n",
              "      <td>vrl</td>\n",
              "      <td>0</td>\n",
              "      <td>4862</td>\n",
              "      <td>0.01357</td>\n",
              "      <td>0.01543</td>\n",
              "      <td>0.00782</td>\n",
              "      <td>0.01111</td>\n",
              "      <td>0.01028</td>\n",
              "      <td>0.01193</td>\n",
              "      <td>0.02283</td>\n",
              "      <td>0.01604</td>\n",
              "      <td>0.01316</td>\n",
              "    </tr>\n",
              "    <tr>\n",
              "      <th>3</th>\n",
              "      <td>vrl</td>\n",
              "      <td>0</td>\n",
              "      <td>1915</td>\n",
              "      <td>0.01619</td>\n",
              "      <td>0.00992</td>\n",
              "      <td>0.01567</td>\n",
              "      <td>0.01358</td>\n",
              "      <td>0.00940</td>\n",
              "      <td>0.01723</td>\n",
              "      <td>0.02402</td>\n",
              "      <td>0.02245</td>\n",
              "      <td>0.02507</td>\n",
              "    </tr>\n",
              "    <tr>\n",
              "      <th>4</th>\n",
              "      <td>vrl</td>\n",
              "      <td>0</td>\n",
              "      <td>22831</td>\n",
              "      <td>0.00767</td>\n",
              "      <td>0.03679</td>\n",
              "      <td>0.01380</td>\n",
              "      <td>0.00548</td>\n",
              "      <td>0.00473</td>\n",
              "      <td>0.02076</td>\n",
              "      <td>0.02716</td>\n",
              "      <td>0.00867</td>\n",
              "      <td>0.01310</td>\n",
              "    </tr>\n",
              "  </tbody>\n",
              "</table>\n",
              "</div>"
            ],
            "text/plain": [
              "  Kingdom  DNAtype  Ncodons      UUA  ...      CUG      AUU      AUC      AUA\n",
              "0     vrl        0     1995  0.00050  ...  0.04010  0.00551  0.02005  0.00752\n",
              "1     vrl        0     1474  0.00068  ...  0.04410  0.01153  0.02510  0.00882\n",
              "2     vrl        0     4862  0.01357  ...  0.01193  0.02283  0.01604  0.01316\n",
              "3     vrl        0     1915  0.01619  ...  0.01723  0.02402  0.02245  0.02507\n",
              "4     vrl        0    22831  0.00767  ...  0.02076  0.02716  0.00867  0.01310\n",
              "\n",
              "[5 rows x 12 columns]"
            ]
          },
          "metadata": {},
          "execution_count": 15
        }
      ]
    },
    {
      "cell_type": "code",
      "metadata": {
        "colab": {
          "base_uri": "https://localhost:8080/",
          "height": 304
        },
        "id": "9ow_H-wg-XdP",
        "outputId": "512e9d99-5070-4864-db74-00294f1f5297"
      },
      "source": [
        "sns.barplot(x=df['Kingdom'], y=df['Ncodons'])"
      ],
      "execution_count": 16,
      "outputs": [
        {
          "output_type": "execute_result",
          "data": {
            "text/plain": [
              "<matplotlib.axes._subplots.AxesSubplot at 0x7f8c57850ad0>"
            ]
          },
          "metadata": {},
          "execution_count": 16
        },
        {
          "output_type": "display_data",
          "data": {
            "image/png": "[encoded data removed]",
            "text/plain": [
              "<Figure size 432x288 with 1 Axes>"
            ]
          },
          "metadata": {}
        }
      ]
    },
    {
      "cell_type": "code",
      "metadata": {
        "colab": {
          "base_uri": "https://localhost:8080/"
        },
        "id": "sbR8_tgZ_PG_",
        "outputId": "0783032e-8d72-4579-9504-664f8df05796"
      },
      "source": [
        "df.columns"
      ],
      "execution_count": 18,
      "outputs": [
        {
          "output_type": "execute_result",
          "data": {
            "text/plain": [
              "Index(['Kingdom', 'DNAtype', 'Ncodons', 'UUA', 'UUG', 'CUU', 'CUC', 'CUA',\n",
              "       'CUG', 'AUU', 'AUC', 'AUA'],\n",
              "      dtype='object')"
            ]
          },
          "metadata": {},
          "execution_count": 18
        }
      ]
    },
    {
      "cell_type": "code",
      "metadata": {
        "colab": {
          "base_uri": "https://localhost:8080/",
          "height": 203
        },
        "id": "LAc9PH7a_Kdw",
        "outputId": "65527aaf-3054-4adb-cee9-abad68efe86b"
      },
      "source": [
        "data = df.drop(['DNAtype', 'UUA', 'UUG','CUU','CUC','CUA','CUG','AUU', 'AUC', 'AUA'],axis=1)\n",
        "data.head()"
      ],
      "execution_count": 20,
      "outputs": [
        {
          "output_type": "execute_result",
          "data": {
            "text/html": [
              "<div>\n",
              "<style scoped>\n",
              "    .dataframe tbody tr th:only-of-type {\n",
              "        vertical-align: middle;\n",
              "    }\n",
              "\n",
              "    .dataframe tbody tr th {\n",
              "        vertical-align: top;\n",
              "    }\n",
              "\n",
              "    .dataframe thead th {\n",
              "        text-align: right;\n",
              "    }\n",
              "</style>\n",
              "<table border=\"1\" class=\"dataframe\">\n",
              "  <thead>\n",
              "    <tr style=\"text-align: right;\">\n",
              "      <th></th>\n",
              "      <th>Kingdom</th>\n",
              "      <th>Ncodons</th>\n",
              "    </tr>\n",
              "  </thead>\n",
              "  <tbody>\n",
              "    <tr>\n",
              "      <th>0</th>\n",
              "      <td>vrl</td>\n",
              "      <td>1995</td>\n",
              "    </tr>\n",
              "    <tr>\n",
              "      <th>1</th>\n",
              "      <td>vrl</td>\n",
              "      <td>1474</td>\n",
              "    </tr>\n",
              "    <tr>\n",
              "      <th>2</th>\n",
              "      <td>vrl</td>\n",
              "      <td>4862</td>\n",
              "    </tr>\n",
              "    <tr>\n",
              "      <th>3</th>\n",
              "      <td>vrl</td>\n",
              "      <td>1915</td>\n",
              "    </tr>\n",
              "    <tr>\n",
              "      <th>4</th>\n",
              "      <td>vrl</td>\n",
              "      <td>22831</td>\n",
              "    </tr>\n",
              "  </tbody>\n",
              "</table>\n",
              "</div>"
            ],
            "text/plain": [
              "  Kingdom  Ncodons\n",
              "0     vrl     1995\n",
              "1     vrl     1474\n",
              "2     vrl     4862\n",
              "3     vrl     1915\n",
              "4     vrl    22831"
            ]
          },
          "metadata": {},
          "execution_count": 20
        }
      ]
    },
    {
      "cell_type": "code",
      "metadata": {
        "colab": {
          "base_uri": "https://localhost:8080/",
          "height": 314
        },
        "id": "NiOuuK4X-lxD",
        "outputId": "f386dbea-d7b6-4ef5-de76-afc358a2e745"
      },
      "source": [
        "# Count Plot (a.k.a. Bar Plot)\n",
        "sns.countplot(x='Kingdom', data=data)\n",
        " \n",
        "# Rotate x-labels\n",
        "plt.xticks(rotation=-45)"
      ],
      "execution_count": 22,
      "outputs": [
        {
          "output_type": "execute_result",
          "data": {
            "text/plain": [
              "(array([0, 1, 2, 3, 4, 5, 6]), <a list of 7 Text major ticklabel objects>)"
            ]
          },
          "metadata": {},
          "execution_count": 22
        },
        {
          "output_type": "display_data",
          "data": {
            "image/png": "[encoded data removed]",
            "text/plain": [
              "<Figure size 432x288 with 1 Axes>"
            ]
          },
          "metadata": {}
        }
      ]
    },
    {
      "cell_type": "markdown",
      "metadata": {
        "id": "iMsh4xfABvLp"
      },
      "source": [
        "#**Declare feature vector and target variable:-**"
      ]
    },
    {
      "cell_type": "code",
      "metadata": {
        "id": "iBQAWXucBtFP"
      },
      "source": [
        "X = df\n",
        "y = df['Kingdom']"
      ],
      "execution_count": 25,
      "outputs": []
    },
    {
      "cell_type": "markdown",
      "metadata": {
        "id": "CZipt8fjBcLr"
      },
      "source": [
        "#**Convert categorical variable into integers:-**"
      ]
    },
    {
      "cell_type": "code",
      "metadata": {
        "id": "wp7l_vdoBUDv"
      },
      "source": [
        "from sklearn.preprocessing import LabelEncoder\n",
        "le = LabelEncoder()\n",
        "X['Kingdom'] = le.fit_transform(X['Kingdom'])\n",
        "y = le.transform(y)"
      ],
      "execution_count": 26,
      "outputs": []
    },
    {
      "cell_type": "code",
      "metadata": {
        "colab": {
          "base_uri": "https://localhost:8080/",
          "height": 203
        },
        "id": "5gW7y-0kCF9n",
        "outputId": "532827d7-56b1-40dd-f17f-98485fd14f45"
      },
      "source": [
        "X.head()"
      ],
      "execution_count": 27,
      "outputs": [
        {
          "output_type": "execute_result",
          "data": {
            "text/html": [
              "<div>\n",
              "<style scoped>\n",
              "    .dataframe tbody tr th:only-of-type {\n",
              "        vertical-align: middle;\n",
              "    }\n",
              "\n",
              "    .dataframe tbody tr th {\n",
              "        vertical-align: top;\n",
              "    }\n",
              "\n",
              "    .dataframe thead th {\n",
              "        text-align: right;\n",
              "    }\n",
              "</style>\n",
              "<table border=\"1\" class=\"dataframe\">\n",
              "  <thead>\n",
              "    <tr style=\"text-align: right;\">\n",
              "      <th></th>\n",
              "      <th>Kingdom</th>\n",
              "      <th>DNAtype</th>\n",
              "      <th>Ncodons</th>\n",
              "      <th>UUA</th>\n",
              "      <th>UUG</th>\n",
              "      <th>CUU</th>\n",
              "      <th>CUC</th>\n",
              "      <th>CUA</th>\n",
              "      <th>CUG</th>\n",
              "      <th>AUU</th>\n",
              "      <th>AUC</th>\n",
              "      <th>AUA</th>\n",
              "    </tr>\n",
              "  </thead>\n",
              "  <tbody>\n",
              "    <tr>\n",
              "      <th>0</th>\n",
              "      <td>6</td>\n",
              "      <td>0</td>\n",
              "      <td>1995</td>\n",
              "      <td>0.00050</td>\n",
              "      <td>0.00351</td>\n",
              "      <td>0.01203</td>\n",
              "      <td>0.03208</td>\n",
              "      <td>0.00100</td>\n",
              "      <td>0.04010</td>\n",
              "      <td>0.00551</td>\n",
              "      <td>0.02005</td>\n",
              "      <td>0.00752</td>\n",
              "    </tr>\n",
              "    <tr>\n",
              "      <th>1</th>\n",
              "      <td>6</td>\n",
              "      <td>0</td>\n",
              "      <td>1474</td>\n",
              "      <td>0.00068</td>\n",
              "      <td>0.00678</td>\n",
              "      <td>0.00407</td>\n",
              "      <td>0.02849</td>\n",
              "      <td>0.00204</td>\n",
              "      <td>0.04410</td>\n",
              "      <td>0.01153</td>\n",
              "      <td>0.02510</td>\n",
              "      <td>0.00882</td>\n",
              "    </tr>\n",
              "    <tr>\n",
              "      <th>2</th>\n",
              "      <td>6</td>\n",
              "      <td>0</td>\n",
              "      <td>4862</td>\n",
              "      <td>0.01357</td>\n",
              "      <td>0.01543</td>\n",
              "      <td>0.00782</td>\n",
              "      <td>0.01111</td>\n",
              "      <td>0.01028</td>\n",
              "      <td>0.01193</td>\n",
              "      <td>0.02283</td>\n",
              "      <td>0.01604</td>\n",
              "      <td>0.01316</td>\n",
              "    </tr>\n",
              "    <tr>\n",
              "      <th>3</th>\n",
              "      <td>6</td>\n",
              "      <td>0</td>\n",
              "      <td>1915</td>\n",
              "      <td>0.01619</td>\n",
              "      <td>0.00992</td>\n",
              "      <td>0.01567</td>\n",
              "      <td>0.01358</td>\n",
              "      <td>0.00940</td>\n",
              "      <td>0.01723</td>\n",
              "      <td>0.02402</td>\n",
              "      <td>0.02245</td>\n",
              "      <td>0.02507</td>\n",
              "    </tr>\n",
              "    <tr>\n",
              "      <th>4</th>\n",
              "      <td>6</td>\n",
              "      <td>0</td>\n",
              "      <td>22831</td>\n",
              "      <td>0.00767</td>\n",
              "      <td>0.03679</td>\n",
              "      <td>0.01380</td>\n",
              "      <td>0.00548</td>\n",
              "      <td>0.00473</td>\n",
              "      <td>0.02076</td>\n",
              "      <td>0.02716</td>\n",
              "      <td>0.00867</td>\n",
              "      <td>0.01310</td>\n",
              "    </tr>\n",
              "  </tbody>\n",
              "</table>\n",
              "</div>"
            ],
            "text/plain": [
              "   Kingdom  DNAtype  Ncodons      UUA  ...      CUG      AUU      AUC      AUA\n",
              "0        6        0     1995  0.00050  ...  0.04010  0.00551  0.02005  0.00752\n",
              "1        6        0     1474  0.00068  ...  0.04410  0.01153  0.02510  0.00882\n",
              "2        6        0     4862  0.01357  ...  0.01193  0.02283  0.01604  0.01316\n",
              "3        6        0     1915  0.01619  ...  0.01723  0.02402  0.02245  0.02507\n",
              "4        6        0    22831  0.00767  ...  0.02076  0.02716  0.00867  0.01310\n",
              "\n",
              "[5 rows x 12 columns]"
            ]
          },
          "metadata": {},
          "execution_count": 27
        }
      ]
    },
    {
      "cell_type": "code",
      "metadata": {
        "colab": {
          "base_uri": "https://localhost:8080/"
        },
        "id": "_UBhsT2-M1cW",
        "outputId": "0f445dd6-41da-473a-d18d-f02b88712b90"
      },
      "source": [
        "df.DNAtype.value_counts()"
      ],
      "execution_count": 75,
      "outputs": [
        {
          "output_type": "execute_result",
          "data": {
            "text/plain": [
              "0     8340\n",
              "2      816\n",
              "1      496\n",
              "4       31\n",
              "12       4\n",
              "5        2\n",
              "11       2\n",
              "3        2\n",
              "9        2\n",
              "7        1\n",
              "6        1\n",
              "Name: DNAtype, dtype: int64"
            ]
          },
          "metadata": {},
          "execution_count": 75
        }
      ]
    },
    {
      "cell_type": "markdown",
      "metadata": {
        "id": "Qeqj52vmCPDi"
      },
      "source": [
        "#**Features Scaling:-**"
      ]
    },
    {
      "cell_type": "code",
      "metadata": {
        "id": "Z2-Qls7fCJ6Y"
      },
      "source": [
        "cols = X.columns"
      ],
      "execution_count": 28,
      "outputs": []
    },
    {
      "cell_type": "code",
      "metadata": {
        "id": "p-qGt9PLCann"
      },
      "source": [
        "from sklearn.preprocessing import MinMaxScaler\n",
        "ms = MinMaxScaler()\n",
        "X = ms.fit_transform(X)"
      ],
      "execution_count": 29,
      "outputs": []
    },
    {
      "cell_type": "code",
      "metadata": {
        "id": "90mJFv_pCncL"
      },
      "source": [
        "X = pd.DataFrame(X, columns=[cols])"
      ],
      "execution_count": 30,
      "outputs": []
    },
    {
      "cell_type": "code",
      "metadata": {
        "colab": {
          "base_uri": "https://localhost:8080/",
          "height": 203
        },
        "id": "rviJI7IPCtDh",
        "outputId": "d2eb5201-7eba-43f0-c7c7-2ded2c589ed2"
      },
      "source": [
        "X.head()"
      ],
      "execution_count": 31,
      "outputs": [
        {
          "output_type": "execute_result",
          "data": {
            "text/html": [
              "<div>\n",
              "<style scoped>\n",
              "    .dataframe tbody tr th:only-of-type {\n",
              "        vertical-align: middle;\n",
              "    }\n",
              "\n",
              "    .dataframe tbody tr th {\n",
              "        vertical-align: top;\n",
              "    }\n",
              "\n",
              "    .dataframe thead tr th {\n",
              "        text-align: left;\n",
              "    }\n",
              "</style>\n",
              "<table border=\"1\" class=\"dataframe\">\n",
              "  <thead>\n",
              "    <tr>\n",
              "      <th></th>\n",
              "      <th>Kingdom</th>\n",
              "      <th>DNAtype</th>\n",
              "      <th>Ncodons</th>\n",
              "      <th>UUA</th>\n",
              "      <th>UUG</th>\n",
              "      <th>CUU</th>\n",
              "      <th>CUC</th>\n",
              "      <th>CUA</th>\n",
              "      <th>CUG</th>\n",
              "      <th>AUU</th>\n",
              "      <th>AUC</th>\n",
              "      <th>AUA</th>\n",
              "    </tr>\n",
              "  </thead>\n",
              "  <tbody>\n",
              "    <tr>\n",
              "      <th>0</th>\n",
              "      <td>1.0</td>\n",
              "      <td>0.0</td>\n",
              "      <td>0.000029</td>\n",
              "      <td>0.003526</td>\n",
              "      <td>0.034687</td>\n",
              "      <td>0.146743</td>\n",
              "      <td>0.333264</td>\n",
              "      <td>0.009473</td>\n",
              "      <td>0.373475</td>\n",
              "      <td>0.035765</td>\n",
              "      <td>0.261136</td>\n",
              "      <td>0.055952</td>\n",
              "    </tr>\n",
              "    <tr>\n",
              "      <th>1</th>\n",
              "      <td>1.0</td>\n",
              "      <td>0.0</td>\n",
              "      <td>0.000014</td>\n",
              "      <td>0.004795</td>\n",
              "      <td>0.067003</td>\n",
              "      <td>0.049646</td>\n",
              "      <td>0.295969</td>\n",
              "      <td>0.019326</td>\n",
              "      <td>0.410729</td>\n",
              "      <td>0.074841</td>\n",
              "      <td>0.326908</td>\n",
              "      <td>0.065625</td>\n",
              "    </tr>\n",
              "    <tr>\n",
              "      <th>2</th>\n",
              "      <td>1.0</td>\n",
              "      <td>0.0</td>\n",
              "      <td>0.000113</td>\n",
              "      <td>0.095691</td>\n",
              "      <td>0.152485</td>\n",
              "      <td>0.095389</td>\n",
              "      <td>0.115417</td>\n",
              "      <td>0.097385</td>\n",
              "      <td>0.111111</td>\n",
              "      <td>0.148189</td>\n",
              "      <td>0.208909</td>\n",
              "      <td>0.097917</td>\n",
              "    </tr>\n",
              "    <tr>\n",
              "      <th>3</th>\n",
              "      <td>1.0</td>\n",
              "      <td>0.0</td>\n",
              "      <td>0.000027</td>\n",
              "      <td>0.114167</td>\n",
              "      <td>0.098033</td>\n",
              "      <td>0.191144</td>\n",
              "      <td>0.141076</td>\n",
              "      <td>0.089049</td>\n",
              "      <td>0.160473</td>\n",
              "      <td>0.155913</td>\n",
              "      <td>0.292394</td>\n",
              "      <td>0.186533</td>\n",
              "    </tr>\n",
              "    <tr>\n",
              "      <th>4</th>\n",
              "      <td>1.0</td>\n",
              "      <td>0.0</td>\n",
              "      <td>0.000640</td>\n",
              "      <td>0.054086</td>\n",
              "      <td>0.363573</td>\n",
              "      <td>0.168334</td>\n",
              "      <td>0.056929</td>\n",
              "      <td>0.044809</td>\n",
              "      <td>0.193350</td>\n",
              "      <td>0.176295</td>\n",
              "      <td>0.112920</td>\n",
              "      <td>0.097470</td>\n",
              "    </tr>\n",
              "  </tbody>\n",
              "</table>\n",
              "</div>"
            ],
            "text/plain": [
              "  Kingdom DNAtype   Ncodons       UUA  ...       CUG       AUU       AUC       AUA\n",
              "0     1.0     0.0  0.000029  0.003526  ...  0.373475  0.035765  0.261136  0.055952\n",
              "1     1.0     0.0  0.000014  0.004795  ...  0.410729  0.074841  0.326908  0.065625\n",
              "2     1.0     0.0  0.000113  0.095691  ...  0.111111  0.148189  0.208909  0.097917\n",
              "3     1.0     0.0  0.000027  0.114167  ...  0.160473  0.155913  0.292394  0.186533\n",
              "4     1.0     0.0  0.000640  0.054086  ...  0.193350  0.176295  0.112920  0.097470\n",
              "\n",
              "[5 rows x 12 columns]"
            ]
          },
          "metadata": {},
          "execution_count": 31
        }
      ]
    },
    {
      "cell_type": "markdown",
      "metadata": {
        "id": "8RCpEEMGC0NS"
      },
      "source": [
        "#**Kmeans model with K=2:-**"
      ]
    },
    {
      "cell_type": "code",
      "metadata": {
        "id": "ym2R52UBCud3"
      },
      "source": [
        "from sklearn.cluster import KMeans"
      ],
      "execution_count": 32,
      "outputs": []
    },
    {
      "cell_type": "code",
      "metadata": {
        "colab": {
          "base_uri": "https://localhost:8080/"
        },
        "id": "iXtjP_qHC-v2",
        "outputId": "3779360d-4fbf-481b-93a4-64b7ec9f0895"
      },
      "source": [
        "K_model = KMeans(n_clusters=2, random_state=0)\n",
        "K_model.fit(X)"
      ],
      "execution_count": 33,
      "outputs": [
        {
          "output_type": "execute_result",
          "data": {
            "text/plain": [
              "KMeans(algorithm='auto', copy_x=True, init='k-means++', max_iter=300,\n",
              "       n_clusters=2, n_init=10, n_jobs=None, precompute_distances='auto',\n",
              "       random_state=0, tol=0.0001, verbose=0)"
            ]
          },
          "metadata": {},
          "execution_count": 33
        }
      ]
    },
    {
      "cell_type": "markdown",
      "metadata": {
        "id": "BrBEpIixDRHy"
      },
      "source": [
        "#**K-Means model parameters study:-**"
      ]
    },
    {
      "cell_type": "code",
      "metadata": {
        "colab": {
          "base_uri": "https://localhost:8080/"
        },
        "id": "R15TH99XDH5G",
        "outputId": "bec1b048-ecce-4684-dace-5a94fe52eb7f"
      },
      "source": [
        "K_model.cluster_centers_"
      ],
      "execution_count": 34,
      "outputs": [
        {
          "output_type": "execute_result",
          "data": {
            "text/plain": [
              "array([[0.92062163, 0.02987158, 0.00120415, 0.1324122 , 0.18013547,\n",
              "        0.21345578, 0.14240049, 0.1004989 , 0.12799828, 0.16784049,\n",
              "        0.23733898, 0.11907332],\n",
              "       [0.2195498 , 0.00853762, 0.00440664, 0.14702249, 0.14128705,\n",
              "        0.16715342, 0.15273399, 0.06750651, 0.23327873, 0.17625759,\n",
              "        0.30305176, 0.10143229]])"
            ]
          },
          "metadata": {},
          "execution_count": 34
        }
      ]
    },
    {
      "cell_type": "code",
      "metadata": {
        "colab": {
          "base_uri": "https://localhost:8080/"
        },
        "id": "MKcPg6dMDYIW",
        "outputId": "47f36238-0eb7-437a-e40b-3767f07f4100"
      },
      "source": [
        "K_model.inertia_"
      ],
      "execution_count": 35,
      "outputs": [
        {
          "output_type": "execute_result",
          "data": {
            "text/plain": [
              "1237.797956043242"
            ]
          },
          "metadata": {},
          "execution_count": 35
        }
      ]
    },
    {
      "cell_type": "code",
      "metadata": {
        "colab": {
          "base_uri": "https://localhost:8080/"
        },
        "id": "z9SljrUZDgPM",
        "outputId": "4e92abca-54b4-4a71-f583-a3eb9fb98708"
      },
      "source": [
        "labels = K_model.labels_\n",
        "\n",
        "# check how many of the samples were correctly labeled\n",
        "correct_labels = sum(y == labels)\n",
        "\n",
        "print(\"Result: %d out of %d samples were correctly labeled.\" % (correct_labels, y.size))"
      ],
      "execution_count": 36,
      "outputs": [
        {
          "output_type": "stream",
          "name": "stdout",
          "text": [
            "Result: 2920 out of 9697 samples were correctly labeled.\n"
          ]
        }
      ]
    },
    {
      "cell_type": "code",
      "metadata": {
        "colab": {
          "base_uri": "https://localhost:8080/"
        },
        "id": "4UVpGVUODqiG",
        "outputId": "426b7038-d34a-4e9a-90ac-d2f6a76078f1"
      },
      "source": [
        "print('Accuracy score: {0:0.2f}'. format(correct_labels/float(y.size)))"
      ],
      "execution_count": 37,
      "outputs": [
        {
          "output_type": "stream",
          "name": "stdout",
          "text": [
            "Accuracy score: 0.30\n"
          ]
        }
      ]
    },
    {
      "cell_type": "markdown",
      "metadata": {
        "id": "ZQLt3-EGD1Gg"
      },
      "source": [
        "#**Use elbow method to find optimal number of clusters:-**"
      ]
    },
    {
      "cell_type": "code",
      "metadata": {
        "colab": {
          "base_uri": "https://localhost:8080/",
          "height": 301
        },
        "id": "40lfGK9jLV9-",
        "outputId": "564cc65d-425b-4d59-8754-6d08a5393f11"
      },
      "source": [
        "from sklearn.cluster import KMeans\n",
        "cs = []\n",
        "for i in range(1, 11):\n",
        "    K_model = KMeans(n_clusters = i, init = 'k-means++', max_iter = 300, n_init = 10, random_state = 0)\n",
        "    K_model.fit(X)\n",
        "    cs.append(K_model.inertia_)\n",
        "plt.plot(range(1, 11), cs)\n",
        "plt.title('The Elbow Method')\n",
        "plt.xlabel('Number of clusters')\n",
        "plt.ylabel('CS')\n",
        "plt.show()"
      ],
      "execution_count": 62,
      "outputs": [
        {
          "output_type": "display_data",
          "data": {
            "image/png": "[encoded data removed]",
            "text/plain": [
              "<Figure size 432x288 with 1 Axes>"
            ]
          },
          "metadata": {}
        }
      ]
    },
    {
      "cell_type": "code",
      "metadata": {
        "id": "7H26AqjFEiDR"
      },
      "source": [
        "pred = K_model.predict(X)"
      ],
      "execution_count": 39,
      "outputs": []
    },
    {
      "cell_type": "code",
      "metadata": {
        "colab": {
          "base_uri": "https://localhost:8080/",
          "height": 286
        },
        "id": "EI3KVK0hEXQx",
        "outputId": "59050277-e32e-48de-b52e-3728a13ebc68"
      },
      "source": [
        "data_with_clusters = df.copy()\n",
        "data_with_clusters['clusters'] = pred\n",
        "plt.scatter(data_with_clusters['DNAtype'], data_with_clusters['Kingdom'], c=data_with_clusters['clusters'], cmap='rainbow')"
      ],
      "execution_count": 79,
      "outputs": [
        {
          "output_type": "execute_result",
          "data": {
            "text/plain": [
              "<matplotlib.collections.PathCollection at 0x7f8c45f14a90>"
            ]
          },
          "metadata": {},
          "execution_count": 79
        },
        {
          "output_type": "display_data",
          "data": {
            "image/png": "[encoded data removed]",
            "text/plain": [
              "<Figure size 432x288 with 1 Axes>"
            ]
          },
          "metadata": {}
        }
      ]
    },
    {
      "cell_type": "code",
      "metadata": {
        "colab": {
          "base_uri": "https://localhost:8080/",
          "height": 298
        },
        "id": "yA6KKsnbFOer",
        "outputId": "f2878228-0af3-488a-a61e-62b486d12189"
      },
      "source": [
        "data_with_clusters = df.copy()\n",
        "data_with_clusters['clusters'] = pred\n",
        "plt.scatter(data_with_clusters['Ncodons'], data_with_clusters['DNAtype'], c=data_with_clusters['clusters'], cmap='rainbow')"
      ],
      "execution_count": 80,
      "outputs": [
        {
          "output_type": "execute_result",
          "data": {
            "text/plain": [
              "<matplotlib.collections.PathCollection at 0x7f8c45e952d0>"
            ]
          },
          "metadata": {},
          "execution_count": 80
        },
        {
          "output_type": "display_data",
          "data": {
            "image/png": "[encoded data removed]",
            "text/plain": [
              "<Figure size 432x288 with 1 Axes>"
            ]
          },
          "metadata": {}
        }
      ]
    },
    {
      "cell_type": "markdown",
      "metadata": {
        "id": "_qEEu8IdGGh1"
      },
      "source": [
        "#**KMeans Model with K=6:-**"
      ]
    },
    {
      "cell_type": "code",
      "metadata": {
        "colab": {
          "base_uri": "https://localhost:8080/"
        },
        "id": "yx121DKwFitJ",
        "outputId": "1500d6f1-d642-41ad-de91-cb541c4fdc9a"
      },
      "source": [
        "K_model = KMeans(n_clusters=6, random_state=0)\n",
        "# Fit the model: \n",
        "K_model.fit(X)"
      ],
      "execution_count": 42,
      "outputs": [
        {
          "output_type": "execute_result",
          "data": {
            "text/plain": [
              "KMeans(algorithm='auto', copy_x=True, init='k-means++', max_iter=300,\n",
              "       n_clusters=6, n_init=10, n_jobs=None, precompute_distances='auto',\n",
              "       random_state=0, tol=0.0001, verbose=0)"
            ]
          },
          "metadata": {},
          "execution_count": 42
        }
      ]
    },
    {
      "cell_type": "code",
      "metadata": {
        "colab": {
          "base_uri": "https://localhost:8080/"
        },
        "id": "vZQtGYRiHsdX",
        "outputId": "35de7a74-df32-4b77-96c7-d7956ed263a3"
      },
      "source": [
        "# Get the Cetretoides : \n",
        "K_model.cluster_centers_"
      ],
      "execution_count": 43,
      "outputs": [
        {
          "output_type": "execute_result",
          "data": {
            "text/plain": [
              "array([[ 9.65235174e-01,  5.11247444e-04,  1.27421652e-03,\n",
              "         1.16423383e-01,  1.88343814e-01,  2.04999831e-01,\n",
              "         1.16369535e-01,  1.03749522e-01,  1.15006534e-01,\n",
              "         1.58586240e-01,  2.00029990e-01,  1.28478004e-01],\n",
              "       [ 2.30316742e-01,  3.65761689e-03,  3.61086699e-03,\n",
              "         1.81388774e-01,  1.68547050e-01,  2.11907495e-01,\n",
              "         8.86445364e-02,  9.15235529e-02,  1.04489655e-01,\n",
              "         2.16614377e-01,  2.26306342e-01,  1.18618664e-01],\n",
              "       [ 8.88081395e-01,  1.69573643e-03,  1.71832876e-03,\n",
              "         3.18529296e-02,  1.36137522e-01,  1.82189927e-01,\n",
              "         2.66924019e-01,  6.27906013e-02,  2.07840647e-01,\n",
              "         1.01395013e-01,  3.55898024e-01,  4.80972712e-02],\n",
              "       [ 1.89913761e-01, -3.85108612e-16,  6.01584633e-03,\n",
              "         1.87486481e-02,  1.04446680e-01,  1.04054090e-01,\n",
              "         2.55080506e-01,  2.57674960e-02,  4.33139592e-01,\n",
              "         7.00641884e-02,  4.28966917e-01,  2.61280816e-02],\n",
              "       [ 3.70322019e-01,  8.55091384e-02,  1.00910029e-03,\n",
              "         6.27357828e-01,  1.42596573e-01,  1.95447594e-01,\n",
              "         2.97272021e-02,  1.21886801e-01,  2.08838377e-02,\n",
              "         4.66173194e-01,  1.38349236e-01,  3.80569478e-01],\n",
              "       [ 8.39895013e-01,  1.50344488e-01,  3.52942920e-04,\n",
              "         2.82753776e-01,  2.22497457e-01,  2.84769979e-01,\n",
              "         5.51189282e-02,  1.44009322e-01,  6.29638002e-02,\n",
              "         2.72930081e-01,  1.90144200e-01,  1.78028332e-01]])"
            ]
          },
          "metadata": {},
          "execution_count": 43
        }
      ]
    },
    {
      "cell_type": "code",
      "metadata": {
        "colab": {
          "base_uri": "https://localhost:8080/"
        },
        "id": "zqEW7_9DHzh3",
        "outputId": "da5dd73f-9bb8-4d40-e0fb-4e0f03c16ef2"
      },
      "source": [
        "# Get the Inertia: \n",
        "K_model.inertia_"
      ],
      "execution_count": 44,
      "outputs": [
        {
          "output_type": "execute_result",
          "data": {
            "text/plain": [
              "611.6012983981462"
            ]
          },
          "metadata": {},
          "execution_count": 44
        }
      ]
    },
    {
      "cell_type": "code",
      "metadata": {
        "colab": {
          "base_uri": "https://localhost:8080/"
        },
        "id": "Uh9DxMoDH5PA",
        "outputId": "2da5b75c-43f2-43f3-e91c-bd5804d5ace7"
      },
      "source": [
        "labels = K_model.labels_\n",
        "\n",
        "# check how many of the samples were correctly labeled\n",
        "correct_labels = sum(y == labels)\n",
        "\n",
        "print(\"Result: %d out of %d samples were correctly labeled.\" % (correct_labels, y.size))"
      ],
      "execution_count": 45,
      "outputs": [
        {
          "output_type": "stream",
          "name": "stdout",
          "text": [
            "Result: 2394 out of 9697 samples were correctly labeled.\n"
          ]
        }
      ]
    },
    {
      "cell_type": "code",
      "metadata": {
        "colab": {
          "base_uri": "https://localhost:8080/"
        },
        "id": "S68OZTLXIDLG",
        "outputId": "eb12b60a-f656-4826-c7aa-c3bd0b21edac"
      },
      "source": [
        "print('Accuracy score: {0:0.2f}'. format(correct_labels/float(y.size)))"
      ],
      "execution_count": 46,
      "outputs": [
        {
          "output_type": "stream",
          "name": "stdout",
          "text": [
            "Accuracy score: 0.25\n"
          ]
        }
      ]
    },
    {
      "cell_type": "code",
      "metadata": {
        "id": "A9jmRFOfIIjq"
      },
      "source": [
        "new_pred = K_model.predict(X)"
      ],
      "execution_count": 47,
      "outputs": []
    },
    {
      "cell_type": "code",
      "metadata": {
        "colab": {
          "base_uri": "https://localhost:8080/",
          "height": 297
        },
        "id": "ZrFgsj6xIV4u",
        "outputId": "6e22dabf-19a4-4308-b9c0-5fc133029c3e"
      },
      "source": [
        "data_with_clusters = df.copy()\n",
        "data_with_clusters['clusters'] = new_pred\n",
        "plt.scatter(data_with_clusters['Kingdom'], data_with_clusters['Ncodons'], c=data_with_clusters['clusters'], cmap='rainbow')"
      ],
      "execution_count": 48,
      "outputs": [
        {
          "output_type": "execute_result",
          "data": {
            "text/plain": [
              "<matplotlib.collections.PathCollection at 0x7f8c462d1fd0>"
            ]
          },
          "metadata": {},
          "execution_count": 48
        },
        {
          "output_type": "display_data",
          "data": {
            "image/png": "[encoded data removed]",
            "text/plain": [
              "<Figure size 432x288 with 1 Axes>"
            ]
          },
          "metadata": {}
        }
      ]
    },
    {
      "cell_type": "code",
      "metadata": {
        "colab": {
          "base_uri": "https://localhost:8080/",
          "height": 286
        },
        "id": "iKUX2gY5IfdK",
        "outputId": "c5241554-825c-4bd0-c98c-a65857f9d745"
      },
      "source": [
        "data_with_clusters = df.copy()\n",
        "data_with_clusters['clusters'] = new_pred\n",
        "plt.scatter(data_with_clusters['Kingdom'], data_with_clusters['UUA'], c=data_with_clusters['clusters'], cmap='rainbow')"
      ],
      "execution_count": 49,
      "outputs": [
        {
          "output_type": "execute_result",
          "data": {
            "text/plain": [
              "<matplotlib.collections.PathCollection at 0x7f8c462d1290>"
            ]
          },
          "metadata": {},
          "execution_count": 49
        },
        {
          "output_type": "display_data",
          "data": {
            "image/png": "[encoded data removed]",
            "text/plain": [
              "<Figure size 432x288 with 1 Axes>"
            ]
          },
          "metadata": {}
        }
      ]
    },
    {
      "cell_type": "code",
      "metadata": {
        "colab": {
          "base_uri": "https://localhost:8080/"
        },
        "id": "c6A6PlvyIplj",
        "outputId": "88ff1cc9-b493-4b79-a60a-fe06ec9ac2aa"
      },
      "source": [
        "K_model = KMeans(n_clusters=50, random_state=0)\n",
        "# Fit the model: \n",
        "K_model.fit(X)"
      ],
      "execution_count": 52,
      "outputs": [
        {
          "output_type": "execute_result",
          "data": {
            "text/plain": [
              "KMeans(algorithm='auto', copy_x=True, init='k-means++', max_iter=300,\n",
              "       n_clusters=50, n_init=10, n_jobs=None, precompute_distances='auto',\n",
              "       random_state=0, tol=0.0001, verbose=0)"
            ]
          },
          "metadata": {},
          "execution_count": 52
        }
      ]
    },
    {
      "cell_type": "code",
      "metadata": {
        "colab": {
          "base_uri": "https://localhost:8080/"
        },
        "id": "-nL85-e7I5vk",
        "outputId": "0de4508d-ca18-4ce7-fb76-fde1d01e7bb2"
      },
      "source": [
        "K_model.inertia_"
      ],
      "execution_count": 53,
      "outputs": [
        {
          "output_type": "execute_result",
          "data": {
            "text/plain": [
              "251.53499863816285"
            ]
          },
          "metadata": {},
          "execution_count": 53
        }
      ]
    },
    {
      "cell_type": "code",
      "metadata": {
        "colab": {
          "base_uri": "https://localhost:8080/"
        },
        "id": "-1a4vvHXJA2P",
        "outputId": "fc5eef28-3afc-45b3-8041-131f1c2d8e1f"
      },
      "source": [
        "labels = K_model.labels_\n",
        "\n",
        "# check how many of the samples were correctly labeled\n",
        "correct_labels = sum(y == labels)\n",
        "\n",
        "print(\"Result: %d out of %d samples were correctly labeled.\" % (correct_labels, y.size))"
      ],
      "execution_count": 54,
      "outputs": [
        {
          "output_type": "stream",
          "name": "stdout",
          "text": [
            "Result: 196 out of 9697 samples were correctly labeled.\n"
          ]
        }
      ]
    },
    {
      "cell_type": "code",
      "metadata": {
        "colab": {
          "base_uri": "https://localhost:8080/"
        },
        "id": "zVClBc5LJPIE",
        "outputId": "e18c8762-2f4c-4eb3-c67b-82d87b1ba836"
      },
      "source": [
        "print('Accuracy score: {0:0.2f}'. format(correct_labels/float(y.size)))"
      ],
      "execution_count": 55,
      "outputs": [
        {
          "output_type": "stream",
          "name": "stdout",
          "text": [
            "Accuracy score: 0.02\n"
          ]
        }
      ]
    },
    {
      "cell_type": "code",
      "metadata": {
        "id": "WNJYwuY7JTht"
      },
      "source": [
        "predictions = K_model.predict(X)"
      ],
      "execution_count": 56,
      "outputs": []
    },
    {
      "cell_type": "code",
      "metadata": {
        "colab": {
          "base_uri": "https://localhost:8080/",
          "height": 297
        },
        "id": "9kKA9ACtJgB7",
        "outputId": "aea65e55-d0d1-47b8-9870-e6a0f0572633"
      },
      "source": [
        "data_with_clusters = df.copy()\n",
        "data_with_clusters['clusters'] = predictions\n",
        "plt.scatter(data_with_clusters['Kingdom'], data_with_clusters['Ncodons'], c=data_with_clusters['clusters'], cmap='rainbow')"
      ],
      "execution_count": 57,
      "outputs": [
        {
          "output_type": "execute_result",
          "data": {
            "text/plain": [
              "<matplotlib.collections.PathCollection at 0x7f8c543e3f90>"
            ]
          },
          "metadata": {},
          "execution_count": 57
        },
        {
          "output_type": "display_data",
          "data": {
            "image/png": "[encoded data removed]",
            "text/plain": [
              "<Figure size 432x288 with 1 Axes>"
            ]
          },
          "metadata": {}
        }
      ]
    },
    {
      "cell_type": "code",
      "metadata": {
        "colab": {
          "base_uri": "https://localhost:8080/",
          "height": 286
        },
        "id": "nGWZRCsMJpEZ",
        "outputId": "779c4169-0d91-4888-a02d-b64baeb39276"
      },
      "source": [
        "data_with_clusters = df.copy()\n",
        "data_with_clusters['clusters'] = predictions\n",
        "plt.scatter(data_with_clusters['Kingdom'], data_with_clusters['UUA'], c=data_with_clusters['clusters'], cmap='rainbow')"
      ],
      "execution_count": 58,
      "outputs": [
        {
          "output_type": "execute_result",
          "data": {
            "text/plain": [
              "<matplotlib.collections.PathCollection at 0x7f8c46207550>"
            ]
          },
          "metadata": {},
          "execution_count": 58
        },
        {
          "output_type": "display_data",
          "data": {
            "image/png": "[encoded data removed]",
            "text/plain": [
              "<Figure size 432x288 with 1 Axes>"
            ]
          },
          "metadata": {}
        }
      ]
    },
    {
      "cell_type": "code",
      "metadata": {
        "colab": {
          "base_uri": "https://localhost:8080/"
        },
        "id": "BEju2UiyJ7GP",
        "outputId": "28cc01ed-28c8-4b6d-ce88-121c2b588cb6"
      },
      "source": [
        "K_model = KMeans(n_clusters=100, random_state=0)\n",
        "# Fit the model: \n",
        "K_model.fit(X)"
      ],
      "execution_count": 63,
      "outputs": [
        {
          "output_type": "execute_result",
          "data": {
            "text/plain": [
              "KMeans(algorithm='auto', copy_x=True, init='k-means++', max_iter=300,\n",
              "       n_clusters=100, n_init=10, n_jobs=None, precompute_distances='auto',\n",
              "       random_state=0, tol=0.0001, verbose=0)"
            ]
          },
          "metadata": {},
          "execution_count": 63
        }
      ]
    },
    {
      "cell_type": "code",
      "metadata": {
        "colab": {
          "base_uri": "https://localhost:8080/"
        },
        "id": "ARRVWwSLKQPz",
        "outputId": "d3463b96-1368-4e9e-ccdd-7913951a8ed1"
      },
      "source": [
        "K_model.inertia_"
      ],
      "execution_count": 64,
      "outputs": [
        {
          "output_type": "execute_result",
          "data": {
            "text/plain": [
              "188.96901651386713"
            ]
          },
          "metadata": {},
          "execution_count": 64
        }
      ]
    },
    {
      "cell_type": "code",
      "metadata": {
        "colab": {
          "base_uri": "https://localhost:8080/"
        },
        "id": "8TtytVvuKbGk",
        "outputId": "ba225c7d-46d6-4427-bb37-719a4545a987"
      },
      "source": [
        "labels = K_model.labels_\n",
        "\n",
        "# check how many of the samples were correctly labeled\n",
        "correct_labels = sum(y == labels)\n",
        "\n",
        "print(\"Result: %d out of %d samples were correctly labeled.\" % (correct_labels, y.size))"
      ],
      "execution_count": 65,
      "outputs": [
        {
          "output_type": "stream",
          "name": "stdout",
          "text": [
            "Result: 184 out of 9697 samples were correctly labeled.\n"
          ]
        }
      ]
    },
    {
      "cell_type": "code",
      "metadata": {
        "id": "8ZVltLi-LvZF"
      },
      "source": [
        "preds = K_model.predict(X)"
      ],
      "execution_count": 66,
      "outputs": []
    },
    {
      "cell_type": "code",
      "metadata": {
        "colab": {
          "base_uri": "https://localhost:8080/",
          "height": 297
        },
        "id": "wseAFHruLyTS",
        "outputId": "453455c8-3c09-4f43-b808-5b04491ef8e7"
      },
      "source": [
        "data_with_clusters = df.copy()\n",
        "data_with_clusters['clusters'] = preds\n",
        "plt.scatter(data_with_clusters['Kingdom'], data_with_clusters['Ncodons'], c=data_with_clusters['clusters'], cmap='rainbow')"
      ],
      "execution_count": 68,
      "outputs": [
        {
          "output_type": "execute_result",
          "data": {
            "text/plain": [
              "<matplotlib.collections.PathCollection at 0x7f8c4611ed10>"
            ]
          },
          "metadata": {},
          "execution_count": 68
        },
        {
          "output_type": "display_data",
          "data": {
            "image/png": "[encoded data removed]",
            "text/plain": [
              "<Figure size 432x288 with 1 Axes>"
            ]
          },
          "metadata": {}
        }
      ]
    },
    {
      "cell_type": "code",
      "metadata": {
        "colab": {
          "base_uri": "https://localhost:8080/",
          "height": 286
        },
        "id": "IUrAIDMhL4tV",
        "outputId": "07c31444-4285-4b4c-bb9a-50b0d6ccfa6e"
      },
      "source": [
        "data_with_clusters = df.copy()\n",
        "data_with_clusters['clusters'] = preds\n",
        "plt.scatter(data_with_clusters['Kingdom'], data_with_clusters['UUA'], c=data_with_clusters['clusters'], cmap='rainbow')"
      ],
      "execution_count": 69,
      "outputs": [
        {
          "output_type": "execute_result",
          "data": {
            "text/plain": [
              "<matplotlib.collections.PathCollection at 0x7f8c460942d0>"
            ]
          },
          "metadata": {},
          "execution_count": 69
        },
        {
          "output_type": "display_data",
          "data": {
            "image/png": "[encoded data removed]",
            "text/plain": [
              "<Figure size 432x288 with 1 Axes>"
            ]
          },
          "metadata": {}
        }
      ]
    },
    {
      "cell_type": "code",
      "metadata": {
        "id": "sR6xbQIIMODN"
      },
      "source": [
        ""
      ],
      "execution_count": null,
      "outputs": []
    }
  ]
}